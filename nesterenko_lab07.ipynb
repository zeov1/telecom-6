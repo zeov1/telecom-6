{
 "cells": [
  {
   "cell_type": "markdown",
   "metadata": {
    "id": "C_zaQTClqlTm"
   },
   "source": [
    "# Лабораторная работа №7\n",
    "\n",
    "**Тема: \"Дискретное преобразование Фурье\"**\n",
    "\n",
    "Работу выполнил\n",
    "\n",
    "студент группы 5130901/20201\n",
    "\n",
    "Нестеренко Сергей Андреевич\n",
    "\n",
    "---"
   ]
  },
  {
   "cell_type": "code",
   "execution_count": 1,
   "metadata": {},
   "outputs": [],
   "source": [
    "# Get thinkdsp.py\n",
    "\n",
    "import os\n",
    "\n",
    "if not os.path.exists('thinkdsp.py'):\n",
    "    !wget https://github.com/AllenDowney/ThinkDSP/raw/master/code/thinkdsp.py"
   ]
  },
  {
   "cell_type": "code",
   "execution_count": 2,
   "metadata": {},
   "outputs": [],
   "source": [
    "import numpy as np\n",
    "from thinkdsp import PI2"
   ]
  },
  {
   "cell_type": "markdown",
   "metadata": {
    "id": "usiNmjScqw1r"
   },
   "source": [
    "## Упражнение 7.1"
   ]
  },
  {
   "cell_type": "markdown",
   "metadata": {
    "id": "2tameak5rJWP"
   },
   "source": [
    "В блокноте `chap07.ipynb` представлены примеры работы с комплексными синусоидами. В примерах производится сложение сигналов при помощи `SumSignal` и при помощи перемножения матриц. Также представлены примеры анализа сигналов (восстановления амплитуд). Автор показывает, как реализовать ДПФ и обратое ДПФ. Показано применение разработанной функции ДПФ на действительном сигнале."
   ]
  },
  {
   "cell_type": "markdown",
   "metadata": {
    "id": "5nN68x9fq-Gy"
   },
   "source": [
    "## Упражнение 7.2"
   ]
  },
  {
   "cell_type": "markdown",
   "metadata": {},
   "source": [
    "Функция `fft` реализует быстрое преобразование Фурье:"
   ]
  },
  {
   "cell_type": "code",
   "execution_count": 3,
   "metadata": {},
   "outputs": [],
   "source": [
    "def fft(ys):\n",
    "    N = len(ys)\n",
    "    if N == 1:\n",
    "        return ys\n",
    "    \n",
    "    He = fft(ys[::2])\n",
    "    Ho = fft(ys[1::2])\n",
    "    \n",
    "    ns = np.arange(N)\n",
    "    W = np.exp(-1j * PI2 * ns / N)\n",
    "    \n",
    "    return np.tile(He, 2) + W * np.tile(Ho, 2)"
   ]
  },
  {
   "cell_type": "markdown",
   "metadata": {},
   "source": [
    "Создадим небольшой сигнал:"
   ]
  },
  {
   "cell_type": "code",
   "execution_count": 4,
   "metadata": {},
   "outputs": [],
   "source": [
    "ys = [-0.5, 0.1, 0.7, -0.1]"
   ]
  },
  {
   "cell_type": "markdown",
   "metadata": {},
   "source": [
    "Применим к нему БПФ, реализованное в библиотеке NumPy:"
   ]
  },
  {
   "cell_type": "code",
   "execution_count": 5,
   "metadata": {},
   "outputs": [
    {
     "data": {
      "text/plain": [
       "array([ 0.2+0.j , -1.2-0.2j,  0.2+0.j , -1.2+0.2j])"
      ]
     },
     "execution_count": 5,
     "metadata": {},
     "output_type": "execute_result"
    }
   ],
   "source": [
    "hs = np.fft.fft(ys)\n",
    "hs"
   ]
  },
  {
   "cell_type": "markdown",
   "metadata": {},
   "source": [
    "Применим функцию `fft`, реализованную выше:"
   ]
  },
  {
   "cell_type": "code",
   "execution_count": 6,
   "metadata": {},
   "outputs": [
    {
     "data": {
      "text/plain": [
       "array([ 0.2+0.j , -1.2-0.2j,  0.2+0.j , -1.2+0.2j])"
      ]
     },
     "execution_count": 6,
     "metadata": {},
     "output_type": "execute_result"
    }
   ],
   "source": [
    "fft(ys)"
   ]
  },
  {
   "cell_type": "markdown",
   "metadata": {},
   "source": [
    "Получены одинаковые результаты."
   ]
  }
 ],
 "metadata": {
  "colab": {
   "authorship_tag": "ABX9TyNgmGBA8LmQRRSALUrLm/8t",
   "provenance": [],
   "toc_visible": true
  },
  "kernelspec": {
   "display_name": "Python 3",
   "name": "python3"
  },
  "language_info": {
   "codemirror_mode": {
    "name": "ipython",
    "version": 3
   },
   "file_extension": ".py",
   "mimetype": "text/x-python",
   "name": "python",
   "nbconvert_exporter": "python",
   "pygments_lexer": "ipython3",
   "version": "3.12.3"
  }
 },
 "nbformat": 4,
 "nbformat_minor": 0
}
